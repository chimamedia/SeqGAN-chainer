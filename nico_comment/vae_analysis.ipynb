{
 "cells": [
  {
   "cell_type": "code",
   "execution_count": 1,
   "metadata": {
    "collapsed": false
   },
   "outputs": [],
   "source": [
    "%matplotlib inline\n",
    "import matplotlib.pyplot as plt\n",
    "import argparse\n",
    "import os\n",
    "import pickle\n",
    "import random\n",
    "import time\n",
    "import sys\n",
    "import datetime\n",
    "import copy\n",
    "import numpy as np\n",
    "import chainer\n",
    "from chainer import optimizers\n",
    "from chainer import cuda\n",
    "from chainer import serializers\n",
    "import tensorflow as tf\n",
    "import multiprocessing as mp\n",
    "import chainer.functions as F\n",
    "import chainer.links as L\n",
    "\n",
    "sys.path.append('../../chainer-SeqGAN/')\n",
    "\n",
    "from models import SeqGAN, TextCNN, SeqEncoder\n",
    "from optimizer_hook import NamedWeightDecay\n",
    "\n",
    "os.environ['PATH'] += ':/usr/local/cuda/bin'\n",
    "\n",
    "parser = argparse.ArgumentParser()\n",
    "parser.add_argument(\"--out\", default='')\n",
    "parser.add_argument(\"--gen\", default='')\n",
    "parser.add_argument(\"--dis\", default='')\n",
    "parser.add_argument(\"--enc\", default='')\n",
    "parser.add_argument('--gpu', '-g', type=int, default=0)\n",
    "parser.add_argument('--parallel', '-p', default=0, type=int)\n",
    "\n",
    "#  Generator  Hyper-parameters\n",
    "parser.add_argument(\"--gen_emb_dim\", type=int, default=256)\n",
    "parser.add_argument(\"--gen_hidden_dim\", type=int, default=256)\n",
    "parser.add_argument(\"--gen_grad_clip\", type=int, default=5)\n",
    "parser.add_argument(\"--gen_lr\", type=float, default=1e-3)\n",
    "parser.add_argument(\"--num_lstm_layer\", type=int, default=1)\n",
    "parser.add_argument(\"--no-dropout\", dest='dropout', action='store_false', default=True)\n",
    "\n",
    "#  Training  Hyper-parameters\n",
    "parser.add_argument(\"--batch_size\", type=int, default=100)\n",
    "parser.add_argument(\"--total_epoch\", type=int, default=800)\n",
    "parser.add_argument(\"--gen_pretrain_epoch\", type=int, default=100)\n",
    "\n",
    "parser.add_argument(\"--vae\", dest='vae', action='store_true', default=False)\n",
    "\n",
    "args, _ = parser.parse_known_args()\n"
   ]
  },
  {
   "cell_type": "code",
   "execution_count": 2,
   "metadata": {
    "collapsed": false
   },
   "outputs": [],
   "source": [
    "with open('nico_comment_processed.dat', 'rb') as f:\n",
    "    train_comment_data, test_comment_data, train_tag_data, test_tag_data, vocab, tag_id = pickle.load(f)\n",
    "train_num = len(train_comment_data)\n",
    "test_num = len(test_comment_data)\n",
    "vocab_size = 3000\n",
    "seq_length = 20\n",
    "start_token = 0"
   ]
  },
  {
   "cell_type": "code",
   "execution_count": 3,
   "metadata": {
    "collapsed": true
   },
   "outputs": [],
   "source": [
    "out_dir = 'runs_vrae/'\n",
    "emb_dim = 256\n",
    "tag_dim = 0"
   ]
  },
  {
   "cell_type": "code",
   "execution_count": 4,
   "metadata": {
    "collapsed": false
   },
   "outputs": [
    {
     "name": "stderr",
     "output_type": "stream",
     "text": [
      "/home/keisuke_fukuta/.pyenv/versions/anaconda3-4.1.0/lib/python3.5/site-packages/chainer/cuda.py:90: UserWarning: cuDNN is not enabled.\n",
      "Please reinstall chainer after you install cudnn\n",
      "(see https://github.com/pfnet/chainer#installation).\n",
      "  'cuDNN is not enabled.\\n'\n"
     ]
    }
   ],
   "source": [
    "# generator\n",
    "generator = SeqGAN(vocab_size=vocab_size, emb_dim=emb_dim, hidden_dim=emb_dim,\n",
    "                   sequence_length=seq_length, start_token=start_token, lstm_layer=args.num_lstm_layer,\n",
    "                   dropout=args.dropout, encoder=None, tag_dim=tag_dim).to_gpu()\n",
    "serializers.load_hdf5('./gen_pretrain_50.model'.format(out_dir), generator)"
   ]
  },
  {
   "cell_type": "code",
   "execution_count": 5,
   "metadata": {
    "collapsed": false
   },
   "outputs": [],
   "source": [
    "# encoder\n",
    "encoder = SeqEncoder(vocab_size=vocab_size, emb_dim=emb_dim, hidden_dim=emb_dim,\n",
    "                     sequence_length=seq_length, tag_num=tag_dim).to_gpu()\n",
    "\n",
    "serializers.load_hdf5('enc_pretrain_50.model'.format(out_dir), encoder)\n",
    "\n",
    "# generator\n",
    "generator = SeqGAN(vocab_size=vocab_size, emb_dim=emb_dim, hidden_dim=emb_dim,\n",
    "                   sequence_length=seq_length, start_token=start_token, lstm_layer=args.num_lstm_layer,\n",
    "                   dropout=args.dropout, encoder=encoder, tag_dim=tag_dim).to_gpu()\n",
    "serializers.load_hdf5('gen_pretrain_50.model'.format(out_dir), generator)\n"
   ]
  },
  {
   "cell_type": "code",
   "execution_count": 7,
   "metadata": {
    "collapsed": false
   },
   "outputs": [
    {
     "name": "stdout",
     "output_type": "stream",
     "text": [
      "例のアレ\n",
      "エンタメ・音楽\n",
      "科学・技術\n",
      "生活・一般・スポ\n",
      "政治\n",
      "アニメ・ゲーム・絵\n"
     ]
    }
   ],
   "source": [
    "for t in tag_id:\n",
    "    print(t)"
   ]
  },
  {
   "cell_type": "code",
   "execution_count": 6,
   "metadata": {
    "collapsed": false
   },
   "outputs": [],
   "source": [
    "def to_sentence(sentences):\n",
    "    return [''.join([vocab[w] for w in x]) for i, x in enumerate(sentences)]\n",
    "         \n",
    "\n",
    "def print_sentence(sentences):\n",
    "    for i, x in enumerate(sentences):\n",
    "        print(i, ''.join([vocab[w] for w in x]))\n",
    "    \n",
    "\n",
    "def generate(batchsize, x, sampling=True, T=1):\n",
    "    \n",
    "    const_random = np.zeros((batchsize, generator.sequence_length), 'int32')\n",
    "    for i in range(generator.sequence_length):\n",
    "        scores = generator.decode_one_step(x, False)\n",
    "        pred = softmax(cuda.to_cpu(scores.data), T)\n",
    "        if sampling:\n",
    "            generated = [np.random.choice(generator.vocab_size, p=pred[j]) for j in range(batchsize)]\n",
    "        else:\n",
    "            generated = [np.argmax(pred[j]) for j in range(batchsize)]\n",
    "\n",
    "        const_random[:, i] = generated\n",
    "        x = chainer.Variable(generator.xp.asanyarray(generated, 'int32'), volatile=True)\n",
    "\n",
    "    return const_random\n",
    "\n",
    "def softmax(x, T):\n",
    "            y = x - x.max(axis=1, keepdims=True)\n",
    "            y = np.exp(y / T)\n",
    "            y /= y.sum(axis=1, keepdims=True)\n",
    "            return y"
   ]
  },
  {
   "cell_type": "markdown",
   "metadata": {},
   "source": [
    "## データセットの1文字目の分布"
   ]
  },
  {
   "cell_type": "code",
   "execution_count": 241,
   "metadata": {
    "collapsed": false,
    "scrolled": true
   },
   "outputs": [
    {
     "data": {
      "text/plain": [
       "(array([  2.00000000e+01,   0.00000000e+00,   6.03000000e+02, ...,\n",
       "          1.00000000e+00,   3.00000000e+00,   1.85700000e+03]),\n",
       " array([  1.00000000e+00,   1.99933333e+00,   2.99866667e+00, ...,\n",
       "          2.99700133e+03,   2.99800067e+03,   2.99900000e+03]),\n",
       " <a list of 3000 Patch objects>)"
      ]
     },
     "execution_count": 241,
     "metadata": {},
     "output_type": "execute_result"
    },
    {
     "data": {
      "image/png": "[encoded data removed]",
      "text/plain": [
       "<matplotlib.figure.Figure at 0x7fde5e5e70b8>"
      ]
     },
     "metadata": {},
     "output_type": "display_data"
    }
   ],
   "source": [
    "fig = plt.figure()\n",
    "ax = fig.add_subplot(1, 1, 1)\n",
    "ax.set_title('histgram of first letter')\n",
    "ax.set_xlabel('letter id')\n",
    "ax.set_ylabel('frequency')\n",
    "ax.hist(train_comment_data[:, 0], bins=3000)"
   ]
  },
  {
   "cell_type": "code",
   "execution_count": 7,
   "metadata": {
    "collapsed": false
   },
   "outputs": [
    {
     "name": "stdout",
     "output_type": "stream",
     "text": [
      "0 ドンキとかにも売ってそう<EOS>                                  \n",
      "1 早口おばさんも超早口おばさんも好き<EOS>                        \n",
      "2 ここきらい<EOS>                                                \n",
      "3 生主の時点で駄目だろ<EOS>                                      \n",
      "4 投コメ色々書きすぎで草<EOS>                                    \n",
      "5 これほんとほしい 売れ(上から目線)<EOS>                      \n",
      "6 発想が天才のそれ<EOS>                                          \n",
      "7 嘘つけ。<EOS>                                                  \n",
      "8 雰囲気ぶち壊しのBGMでこれもうわかんねえな<EOS>              \n",
      "9 ドラえもんのび太と妖精の国の駅のステージのBGMに似てる<EOS>  \n",
      "10 嫌?<EOS>                                                      \n",
      "11 さんいすき<EOS>                                                \n",
      "12 毎回ほほ~で草<EOS>                                            \n",
      "13 水洗った?<EOS>                                                \n",
      "14 EXILEは草<EOS>                                            \n",
      "15 イスラム国に連れて行くぞオラァ!<EOS>                          \n",
      "16 予 言 之 書<EOS>                                            \n",
      "17 最後のがいらないとおもった<EOS>                                \n",
      "18 コメディー感ぱねえ<EOS>                                        \n",
      "19 格言セイラのなんともいえない感じすき<EOS>                      \n",
      "20 ぶっさ<EOS>                                                    \n",
      "21 よし!<EOS>                                                    \n",
      "22 哈?<EOS>                                                      \n",
      "23 ゴースト兄貴は死んだんだ。いくら呼んでも帰ってこないんだ。<EOS>\n",
      "24 殺すっていわれたら行くのか?<EOS>                              \n",
      "25 頭空っぽにして見ると案外悪くなかったゾ(擁護)<EOS>            \n",
      "26 主人公うざすぎて草も生えない<EOS>                              \n",
      "27 全然内容違うじゃないか・・・<EOS>                              \n",
      "28 えっそらは...<EOS>                                          \n",
      "29 ヒカキンはいいからたれぞうを思いだせよ(怒)<EOS>              \n"
     ]
    }
   ],
   "source": [
    "print_sentence(train_comment_data[:30])"
   ]
  },
  {
   "cell_type": "markdown",
   "metadata": {},
   "source": [
    "## zero input sampling"
   ]
  },
  {
   "cell_type": "code",
   "execution_count": 388,
   "metadata": {
    "collapsed": false
   },
   "outputs": [
    {
     "name": "stdout",
     "output_type": "stream",
     "text": [
      "0 おしまんよ! kika<EOS>                \n",
      "1 ここUHA!<EOS>                          \n",
      "2 目立ねー兄弟···ふざけられ・・<EOS>      \n",
      "3 びょうに差別もすごい。<EOS>                \n",
      "4 ガバガバw<EOS>                            \n",
      "5 これしたせえ!うぜえ<EOS>                  \n",
      "6 糞参大わかんなさい・・・・<EOS>            \n",
      "7 いっつりこわい<EOS>                        \n",
      "8 うかました<EOS>                            \n",
      "9 やっぱ身隊以外はいいと思うな<EOS>          \n",
      "10 ブンキュンは低くも人間なの?<EOS>          \n",
      "11 あかんさんって衰えないんだろうこと...\n",
      "12 ホモの男<EOS>                              \n",
      "13 すごすぎてミンスに働かけて分かるけど<EOS>  \n",
      "14 III<EOS>                                \n",
      "15 おお、ルイフィットかよ・・・<EOS>          \n",
      "16 職人がヒトルバ造納作に車を引くんですかね\n",
      "17 待ってたな<EOS>                            \n",
      "18 ああ~!!<EOS>                            \n",
      "19 ストランすぎて展開曲出される輩きた<EOS>    \n",
      "20 イー安豆、この騙された!!もういいぞ!!\n",
      "21 タグレデス<EOS>                            \n",
      "22 よく説明しろや<EOS>                        \n",
      "23 テロ目の方がキャラか<EOS>                  \n",
      "24 出力な<EOS>                                \n",
      "25 ↓予告聞いた人だー?<EOS>                  \n",
      "26 えぃ、きつからやりたかったのは!<EOS>      \n",
      "27 BUMブライブア~皿<EOS>                  \n",
      "28 運営105<EOS>                            \n",
      "29 凄いでもげたわれてくれよ(TP3)ね<EOS>  \n"
     ]
    }
   ],
   "source": [
    "batch_size = 30\n",
    "generator.reset_state()\n",
    "\n",
    "x = chainer.Variable(generator.xp.asanyarray([generator.start_token] * batch_size, 'int32'), volatile=True)\n",
    "\n",
    "print_sentence(generate(30, x, T=1))"
   ]
  },
  {
   "cell_type": "markdown",
   "metadata": {},
   "source": [
    "## zero inputの1文字目の分布"
   ]
  },
  {
   "cell_type": "code",
   "execution_count": 109,
   "metadata": {
    "collapsed": false
   },
   "outputs": [
    {
     "data": {
      "text/plain": [
       "<Container object of 3000 artists>"
      ]
     },
     "execution_count": 109,
     "metadata": {},
     "output_type": "execute_result"
    },
    {
     "data": {
      "image/png": "[encoded data removed]",
      "text/plain": [
       "<matplotlib.figure.Figure at 0x7fde63161f98>"
      ]
     },
     "metadata": {},
     "output_type": "display_data"
    }
   ],
   "source": [
    "T = 1\n",
    "batch_size = 1\n",
    "generator.reset_state()\n",
    "x = chainer.Variable(generator.xp.asanyarray([generator.start_token] * batch_size, 'int32'), volatile=True)\n",
    "\n",
    "scores = generator.decode_one_step(x, False)\n",
    "pred = softmax(cuda.to_cpu(scores.data), T)\n",
    "\n",
    "plt.bar(np.arange(3000),  pred[0])"
   ]
  },
  {
   "cell_type": "code",
   "execution_count": 145,
   "metadata": {
    "collapsed": false
   },
   "outputs": [
    {
     "data": {
      "text/plain": [
       "['こ', 'お', 'あ', 'な', 'う', 'い', 'ま', 'そ', 'や', 'ア']"
      ]
     },
     "execution_count": 145,
     "metadata": {},
     "output_type": "execute_result"
    }
   ],
   "source": [
    "[ vocab[i] for i in np.argsort(-pred[0])[:10]]"
   ]
  },
  {
   "cell_type": "markdown",
   "metadata": {},
   "source": [
    "## こ、おを抜いてみた"
   ]
  },
  {
   "cell_type": "code",
   "execution_count": 23,
   "metadata": {
    "collapsed": false
   },
   "outputs": [
    {
     "data": {
      "text/plain": [
       "<Container object of 2998 artists>"
      ]
     },
     "execution_count": 23,
     "metadata": {},
     "output_type": "execute_result"
    },
    {
     "data": {
      "image/png": "[encoded data removed]",
      "text/plain": [
       "<matplotlib.figure.Figure at 0x7fbeaa2e3cf8>"
      ]
     },
     "metadata": {},
     "output_type": "display_data"
    }
   ],
   "source": [
    "ind_rm = [np.argsort(-pred[0])[:2]]\n",
    "ind = np.ones(3000, dtype=bool)\n",
    "ind[ind_rm] = False\n",
    "plt.bar(np.arange(3000-2),  pred[0][ind])"
   ]
  },
  {
   "cell_type": "markdown",
   "metadata": {},
   "source": [
    "## 温度下げてみた"
   ]
  },
  {
   "cell_type": "code",
   "execution_count": 11,
   "metadata": {
    "collapsed": false
   },
   "outputs": [
    {
     "data": {
      "text/plain": [
       "<Container object of 3000 artists>"
      ]
     },
     "execution_count": 11,
     "metadata": {},
     "output_type": "execute_result"
    },
    {
     "data": {
      "image/png": "[encoded data removed]",
      "text/plain": [
       "<matplotlib.figure.Figure at 0x7f1e986a47b8>"
      ]
     },
     "metadata": {},
     "output_type": "display_data"
    }
   ],
   "source": [
    "T = 0.5\n",
    "batch_size = 1\n",
    "generator.reset_state()\n",
    "x = chainer.Variable(generator.xp.asanyarray([generator.start_token] * batch_size, 'int32'), volatile=True)\n",
    "\n",
    "scores = generator.decode_one_step(x, False)\n",
    "pred = softmax(cuda.to_cpu(scores.data), T)\n",
    "plt.bar(np.arange(3000),  pred[0])"
   ]
  },
  {
   "cell_type": "markdown",
   "metadata": {},
   "source": [
    "## random noize inputの1文字目の分布"
   ]
  },
  {
   "cell_type": "code",
   "execution_count": null,
   "metadata": {
    "collapsed": false,
    "scrolled": false
   },
   "outputs": [],
   "source": [
    "T = 1\n",
    "batch_size = 10\n",
    "generator.reset_state()\n",
    "\n",
    "random_noize = np.random.normal(scale=1, size=(batch_size, generator.emb_dim))\n",
    "generator.lstm1.h = chainer.Variable(generator.xp.asanyarray(random_noize, 'float32'), volatile=True)\n",
    "\n",
    "x = chainer.Variable(generator.xp.asanyarray([generator.start_token] * batch_size, 'int32'), volatile=True)\n",
    "\n",
    "scores = generator.decode_one_step(x, False)\n",
    "pred = softmax(cuda.to_cpu(scores.data), T)\n",
    "for i in range(batch_size):\n",
    "    plt.bar(np.arange(3000),  pred[i])\n",
    "    plt.show()"
   ]
  },
  {
   "cell_type": "markdown",
   "metadata": {
    "collapsed": false
   },
   "source": [
    "## const random noize sampling"
   ]
  },
  {
   "cell_type": "code",
   "execution_count": 87,
   "metadata": {
    "collapsed": false
   },
   "outputs": [
    {
     "name": "stdout",
     "output_type": "stream",
     "text": [
      "0 おの係緒い)<EOS>                                              \n",
      "1 おわムキどー<EOS>                                              \n",
      "2 おなの(ふ)<EOS>                                              \n",
      "3 おのぶったw<EOS>                                              \n",
      "4 おのブラ」w<EOS>                                              \n",
      "5 ́の係や?<EOS>                                                \n",
      "6 おの醒だw)<EOS>                                              \n",
      "7 おいのやめろ<EOS>                                              \n",
      "8 おのわかるw<EOS>                                              \n",
      "9 おいキグ?<EOS>                                                \n",
      "10 おの章だっ!<EOS>                                              \n",
      "11 おの嫁w()<EOS>                                              \n",
      "12 おのPだっ!<EOS>                                              \n",
      "13 おのおったw<EOS>                                              \n",
      "14 おー応キロ)<EOS>                                              \n",
      "15 おwwム(歓<EOS>                                              \n",
      "16 お銀のゃキw<EOS>                                              \n",
      "17 おいいやて・<EOS>                                              \n",
      "18 おのブどぎw<EOS>                                              \n",
      "19 おののグ(<EOS>                                                \n",
      "20 おな茶ってw<EOS>                                              \n",
      "21 おのいってw<EOS>                                              \n",
      "22 おの備って?<EOS>                                              \n",
      "23 おいお別たw<EOS>                                              \n",
      "24 おの鑑り?声<EOS>                                              \n",
      "25 おの鑑めーw<EOS>                                              \n",
      "26 おの字だw<EOS>                                                \n",
      "27 おの声とw<EOS>                                                \n",
      "28 おwの!コー<EOS>                                              \n",
      "29 おい-ってw<EOS>                                              \n"
     ]
    }
   ],
   "source": [
    "batch_size = 30\n",
    "generator.reset_state()\n",
    "\n",
    "rand = np.zeros((30, generator.emb_dim))\n",
    "rand[:] = z#np.random.normal(scale=1, size=generator.emb_dim)\n",
    "generator.lstm1.h = chainer.Variable(generator.xp.asanyarray(rand, 'float32'), volatile=True)\n",
    "\n",
    "x = chainer.Variable(generator.xp.asanyarray([generator.start_token] * batch_size, 'int32'), volatile=True)\n",
    "\n",
    "print_sentence(generate(30, x))"
   ]
  },
  {
   "cell_type": "markdown",
   "metadata": {},
   "source": [
    "## random noize sampling"
   ]
  },
  {
   "cell_type": "code",
   "execution_count": 21,
   "metadata": {
    "collapsed": false
   },
   "outputs": [
    {
     "data": {
      "text/plain": [
       "(60, 6)"
      ]
     },
     "execution_count": 21,
     "metadata": {},
     "output_type": "execute_result"
    }
   ],
   "source": [
    "tag_.shape"
   ]
  },
  {
   "cell_type": "code",
   "execution_count": 455,
   "metadata": {
    "collapsed": false,
    "scrolled": false
   },
   "outputs": [
    {
     "name": "stdout",
     "output_type": "stream",
     "text": [
      "0 こくいな毛<EOS>                                                \n",
      "1 「皮をのぺい暗黒だ・・<EOS>                                    \n",
      "2 そっけに責いするアー<EOS>                                      \n",
      "3 皆ん パス最1?<EOS>                                          \n",
      "4 突え的員が多だ<EOS>                                            \n",
      "5 見づなボスのブだ<EOS>                                          \n",
      "6 うん特好さモン<EOS>                                            \n",
      "7 みこは倉弁の木読ではwoue」<EOS>                            \n",
      "8 (お信<EOS>                                                    \n",
      "9 漢を値にんだな新も)<EOS>                                      \n",
      "10 (°マ な国の左翼こで何草<EOS>                                \n",
      "11 反町・大式ア嵐<EOS>                                            \n",
      "12 レチに在っろの分がさま!<EOS>                                  \n",
      "13 泣の荒らハギ回w<EOS>                                          \n",
      "14 ほしー言やまるな<EOS>                                          \n",
      "15 諸安好いお祈ぁお少ない、ww<EOS>                              \n",
      "16 イミのせー<EOS>                                                \n",
      "17 朝も1のデミ<EOS>                                              \n",
      "18 妬とがだろ<EOS>                                                \n",
      "19 声ぱさてく夜な欲<EOS>                                          \n",
      "20 熊ちゃ~よ<EOS>                                                \n",
      "21 猫シデタと公見な妄か<EOS>                                      \n",
      "22 むな子だけ可愛い.<EOS>                                        \n",
      "23 人二は“あーすz<EOS>                                          \n",
      "24 民ま無界の積めはる<EOS>                                        \n",
      "25 \\人うたっくは?<EOS>                                          \n",
      "26 うんとって<EOS>                                                \n",
      "27 ひゃさ言ころは笑っぞ」<EOS>                                    \n",
      "28 寛要求眼点~<EOS>                                              \n",
      "29 アンマター大様優城ガレらよかった知少なの?<EOS>                \n"
     ]
    }
   ],
   "source": [
    "randominput = generator.generate(30, random_state=True)\n",
    "for i, x in enumerate(randominput):\n",
    "    print(i, (''.join([vocab[w] for w in x])))\n",
    "\n",
    "# generator.reset_state()\n",
    "# z = chainer.Variable(generator.xp.asanyarray(np.random.normal(scale=1, size=(60, generator.emb_dim)), 'float32'), volatile=True)\n",
    "# tag_batch = np.repeat(range(len(tag_id)), 10)\n",
    "# tag_ = generator.tag_embed(chainer.Variable(generator.xp.array(tag_batch, 'int32'), volatile=True))\n",
    "# generator.lstm1.h = generator.dec_input(F.concat((z, tag_)))\n",
    "\n",
    "# x = chainer.Variable(generator.xp.asanyarray([generator.start_token] * 60, 'int32'), volatile=True)\n",
    "\n",
    "# sentences = generate(60, x, T=1)\n",
    "# for x,y in zip(tag_batch, to_sentence(sentences)):\n",
    "#     print(tag_id[x], y)"
   ]
  },
  {
   "cell_type": "markdown",
   "metadata": {},
   "source": [
    "## random noize argmax"
   ]
  },
  {
   "cell_type": "code",
   "execution_count": 398,
   "metadata": {
    "collapsed": false,
    "scrolled": false
   },
   "outputs": [
    {
     "name": "stdout",
     "output_type": "stream",
     "text": [
      "0 葉がご細しら飽誕で!ww<EOS>                                  \n",
      "1 本代聞なにいた<EOS>                                            \n",
      "2 ♡みの                                                      \n",
      "3 男ーまむ<EOS>                                                  \n",
      "4 拐<EOS>                                                        \n",
      "5 々けけんろっとんでなろで<EOS>                                  \n",
      "6 色空蓮ィ)なせよノイ色参応那ヴ・・?<EOS>                      \n",
      "7 っか<EOS>     “?\"👽👽    <EOS>                                \n",
      "8 取、れそー歌猫イ誰み』<EOS>                                    \n",
      "9 込ーばキャフャチル眼撃みなな<EOS>                              \n",
      "10 てたう方差ザよいいい格格稼ぎがないんんっけんんだろない<EOS>    \n",
      "11     定少の<EOS>                                                \n",
      "12 済<EOS>                                                        \n",
      "13 てゃ帰と?親座に来たなwh<EOS>                                \n",
      "14 要出ばまじガグ5決上去いなよなーw<EOS>                        \n",
      "15 野ェパリ<EOS>                                                  \n",
      "16 ょ西人な作ふゾ<EOS>                                            \n",
      "17 摘<EOS>    な  w<EOS>                                            \n",
      "18 紹傷い来におかうなよ<EOS>                                      \n",
      "19 とん銃フ術敵じみん!!<EOS>                                    \n",
      "20 出行<EOS>                                                      \n",
      "21 て界紙でもつょに顔してんだ<EOS>                                \n",
      "22 ョんで特階とがヨ似るこらんだろう<EOS>                          \n",
      "23 レ派ないんだかるああなぁww<EOS>                              \n",
      "24 経強<EOS>          如~ そ ・<EOS>                              \n",
      "25 て限が(??<EOS>                                              \n",
      "26 教姉!ヒジ.かんん先啦q<EOS>                                  \n",
      "27 仲  ww9くわばるばいわなあw<EOS>                            \n",
      "28 '盗朝界ぜか春余裕ャ\"け!?<EOS>                              \n",
      "29 っ腕この2とお右右思いこんだてる<EOS>                          \n"
     ]
    }
   ],
   "source": [
    "batch_size = 30\n",
    "generator.reset_state()\n",
    "\n",
    "# random_noize = np.random.normal(scale=3, size=(batch_size, generator.emb_dim))\n",
    "generator.lstm1.h = chainer.Variable(generator.xp.asanyarray(random_noize, 'float32'), volatile=True)\n",
    "\n",
    "x = chainer.Variable(generator.xp.asanyarray([generator.start_token] * batch_size, 'int32'), volatile=True)\n",
    "\n",
    "print_sentence(generate(batch_size, x, sampling=False))"
   ]
  },
  {
   "cell_type": "markdown",
   "metadata": {},
   "source": [
    "## random noizeで1文字目に強制挿入"
   ]
  },
  {
   "cell_type": "code",
   "execution_count": 458,
   "metadata": {
    "collapsed": false
   },
   "outputs": [
    {
     "name": "stdout",
     "output_type": "stream",
     "text": [
      "0 一スムが救まっ<EOS>                                            \n",
      "1 一のぱか<EOS>                                                  \n",
      "2 一お〜 って ーラだー<EOS>                                    \n",
      "3 一形ダルをすよ<EOS>                                            \n",
      "4 一住は主義のにいw<EOS>                                        \n",
      "5 一度らで草<EOS>                                                \n",
      "6 一な.<EOS>                                                    \n",
      "7 一為はタイヤッたわ<EOS>                                        \n",
      "8 一まで添いたいもよ<EOS>                                        \n",
      "9 一の広動だいて~か<EOS>                                        \n",
      "10 一つやにダレw<EOS>                                            \n",
      "11 一は焼いすふ<EOS>                                              \n",
      "12 一まけ怖之<EOS>                                                \n",
      "13 一匹なぁ<EOS>                                                  \n",
      "14 一あ? ジろーw<EOS>                                          \n",
      "15 一回者うぷっだろ<EOS>                                          \n",
      "16 一素ってあだわ<EOS>                                            \n",
      "17 一弾はひすいw<EOS>                                            \n",
      "18 一収打詞だから愛止よーりな方が教えて欲しくろ<EOS>              \n",
      "19 一味うか<EOS>                                                  \n",
      "20 一期的じゃんだ<EOS>                                            \n",
      "21 一度るか様っぽろ<EOS>                                          \n",
      "22 一たちょう~w<EOS>                                            \n",
      "23 一度さぎてw<EOS>                                              \n",
      "24 一前出田トなの双よヌゾ<EOS>                                    \n",
      "25 一てにクギッだか<EOS>                                          \n",
      "26 一な女車んいで陥ダン<EOS>                                      \n",
      "27 一オルザのゴデキニ溶とかすねレが<EOS>                          \n",
      "28 一回固絞ってたま...<EOS>                                    \n",
      "29 一韓イラしろ間<EOS>                                            \n"
     ]
    }
   ],
   "source": [
    "batch_size = 30\n",
    "generator.reset_state()\n",
    "\n",
    "random_noize = np.random.normal(scale=1, size=(batch_size, generator.emb_dim))\n",
    "generator.lstm1.h = chainer.Variable(generator.xp.asanyarray(random_noize, 'float32'), volatile=True)\n",
    "\n",
    "x = chainer.Variable(generator.xp.asanyarray([generator.start_token] * batch_size, 'int32'), volatile=True)\n",
    "\n",
    "const_random = np.zeros((batch_size, generator.sequence_length), 'int32')\n",
    "for i in range(generator.sequence_length):\n",
    "    scores = generator.decode_one_step(x, False)\n",
    "    pred = softmax(cuda.to_cpu(scores.data), T=1)\n",
    "    if i == 0:\n",
    "#         generated = [np.random.choice(generator.vocab_size, p=pred[j]) for j in range(batch_size)]\n",
    "#         generated = [np.argsort(-pred[0])[0] for j in range(batch_size)]\n",
    "        generated = [493] * batch_size\n",
    "    else:\n",
    "        generated = [np.argmax(pred[j]) for j in range(batch_size)]\n",
    "\n",
    "    const_random[:, i] = generated\n",
    "    x = chainer.Variable(generator.xp.asanyarray(generated, 'int32'), volatile=True)\n",
    "\n",
    "print_sentence(const_random)\n"
   ]
  },
  {
   "cell_type": "code",
   "execution_count": 411,
   "metadata": {
    "collapsed": false
   },
   "outputs": [
    {
     "data": {
      "text/plain": [
       "493"
      ]
     },
     "execution_count": 411,
     "metadata": {},
     "output_type": "execute_result"
    }
   ],
   "source": [
    "vocab.index('一')"
   ]
  },
  {
   "cell_type": "markdown",
   "metadata": {},
   "source": [
    "## Encoderによるzの分布"
   ]
  },
  {
   "cell_type": "code",
   "execution_count": 143,
   "metadata": {
    "collapsed": true
   },
   "outputs": [],
   "source": [
    "from sklearn.manifold import TSNE\n",
    "from sklearn.decomposition import PCA"
   ]
  },
  {
   "cell_type": "code",
   "execution_count": 160,
   "metadata": {
    "collapsed": false
   },
   "outputs": [
    {
     "data": {
      "text/plain": [
       "array(128.89439392089844, dtype=float32)"
      ]
     },
     "execution_count": 160,
     "metadata": {},
     "output_type": "execute_result"
    }
   ],
   "source": [
    "positive = train_comment_data[np.random.permutation(train_num)[:10000]]\n",
    "# sentences = to_sentence(positive)\n",
    "_, mu_z, ln_var_z = encoder.encode(positive)\n",
    "F.gaussian_kl_divergence(mu_z, ln_var_z).data / 10000\n",
    "mu = cuda.to_cpu(mu_z.data)"
   ]
  },
  {
   "cell_type": "code",
   "execution_count": 162,
   "metadata": {
    "collapsed": false
   },
   "outputs": [
    {
     "data": {
      "text/plain": [
       "(array([  3.50000000e+01,   2.04200000e+03,   5.32250000e+04,\n",
       "          4.58612000e+05,   1.89062800e+06,   1.45606000e+05,\n",
       "          9.61000000e+03,   2.32000000e+02,   8.00000000e+00,\n",
       "          2.00000000e+00]),\n",
       " array([-4.79211426, -3.65199394, -2.51187363, -1.37175331, -0.231633  ,\n",
       "         0.90848732,  2.04860764,  3.18872795,  4.32884827,  5.46896858,\n",
       "         6.6090889 ]),\n",
       " <a list of 10 Patch objects>)"
      ]
     },
     "execution_count": 162,
     "metadata": {},
     "output_type": "execute_result"
    },
    {
     "data": {
      "image/png": "[encoded data removed]",
      "text/plain": [
       "<matplotlib.figure.Figure at 0x7f17ec0a29e8>"
      ]
     },
     "metadata": {},
     "output_type": "display_data"
    }
   ],
   "source": [
    "plt.hist(mu.ravel())"
   ]
  },
  {
   "cell_type": "code",
   "execution_count": 44,
   "metadata": {
    "collapsed": false
   },
   "outputs": [
    {
     "data": {
      "text/plain": [
       "[<matplotlib.lines.Line2D at 0x7f1e832c4a90>]"
      ]
     },
     "execution_count": 44,
     "metadata": {},
     "output_type": "execute_result"
    },
    {
     "data": {
      "image/png": "[encoded data removed]",
      "text/plain": [
       "<matplotlib.figure.Figure at 0x7f1e8340d1d0>"
      ]
     },
     "metadata": {},
     "output_type": "display_data"
    }
   ],
   "source": [
    "plt.plot(mu[:, 0],mu[:,1], \".\")"
   ]
  },
  {
   "cell_type": "code",
   "execution_count": 45,
   "metadata": {
    "collapsed": false
   },
   "outputs": [
    {
     "data": {
      "text/plain": [
       "[<matplotlib.lines.Line2D at 0x7f1e8a9197f0>]"
      ]
     },
     "execution_count": 45,
     "metadata": {},
     "output_type": "execute_result"
    },
    {
     "data": {
      "image/png": "[encoded data removed]",
      "text/plain": [
       "<matplotlib.figure.Figure at 0x7f1e83320588>"
      ]
     },
     "metadata": {},
     "output_type": "display_data"
    }
   ],
   "source": [
    "pca = PCA(n_components=2)\n",
    "pca_result = pca.fit_transform(mu)\n",
    "plt.plot(pca_result[:, 0], pca_result[:,1], '.')"
   ]
  },
  {
   "cell_type": "code",
   "execution_count": 163,
   "metadata": {
    "collapsed": false
   },
   "outputs": [
    {
     "ename": "KeyboardInterrupt",
     "evalue": "",
     "output_type": "error",
     "traceback": [
      "\u001b[1;31m---------------------------------------------------------------------------\u001b[0m",
      "\u001b[1;31mKeyboardInterrupt\u001b[0m                         Traceback (most recent call last)",
      "\u001b[1;32m<ipython-input-163-d7cde9ab2d4e>\u001b[0m in \u001b[0;36m<module>\u001b[1;34m()\u001b[0m\n\u001b[0;32m      1\u001b[0m \u001b[0mmodel\u001b[0m \u001b[1;33m=\u001b[0m \u001b[0mTSNE\u001b[0m\u001b[1;33m(\u001b[0m\u001b[0mn_components\u001b[0m\u001b[1;33m=\u001b[0m\u001b[1;36m2\u001b[0m\u001b[1;33m)\u001b[0m\u001b[1;33m\u001b[0m\u001b[0m\n\u001b[1;32m----> 2\u001b[1;33m \u001b[0mtsne_result\u001b[0m \u001b[1;33m=\u001b[0m \u001b[0mmodel\u001b[0m\u001b[1;33m.\u001b[0m\u001b[0mfit_transform\u001b[0m\u001b[1;33m(\u001b[0m\u001b[0mcuda\u001b[0m\u001b[1;33m.\u001b[0m\u001b[0mto_cpu\u001b[0m\u001b[1;33m(\u001b[0m\u001b[0mmu_z\u001b[0m\u001b[1;33m.\u001b[0m\u001b[0mdata\u001b[0m\u001b[1;33m)\u001b[0m\u001b[1;33m)\u001b[0m\u001b[1;33m\u001b[0m\u001b[0m\n\u001b[0m\u001b[0;32m      3\u001b[0m \u001b[0mplt\u001b[0m\u001b[1;33m.\u001b[0m\u001b[0mplot\u001b[0m\u001b[1;33m(\u001b[0m\u001b[0mtsne_result\u001b[0m\u001b[1;33m[\u001b[0m\u001b[1;33m:\u001b[0m\u001b[1;33m,\u001b[0m\u001b[1;36m0\u001b[0m\u001b[1;33m]\u001b[0m\u001b[1;33m,\u001b[0m \u001b[0mtsne_result\u001b[0m\u001b[1;33m[\u001b[0m\u001b[1;33m:\u001b[0m\u001b[1;33m,\u001b[0m\u001b[1;36m1\u001b[0m\u001b[1;33m]\u001b[0m\u001b[1;33m,\u001b[0m \u001b[1;34m\".\"\u001b[0m\u001b[1;33m)\u001b[0m\u001b[1;33m\u001b[0m\u001b[0m\n",
      "\u001b[1;32m/home/mil/fukuta/.pyenv/versions/anaconda3-4.0.0/lib/python3.5/site-packages/sklearn/manifold/t_sne.py\u001b[0m in \u001b[0;36mfit_transform\u001b[1;34m(self, X, y)\u001b[0m\n\u001b[0;32m    864\u001b[0m             \u001b[0mEmbedding\u001b[0m \u001b[0mof\u001b[0m \u001b[0mthe\u001b[0m \u001b[0mtraining\u001b[0m \u001b[0mdata\u001b[0m \u001b[1;32min\u001b[0m \u001b[0mlow\u001b[0m\u001b[1;33m-\u001b[0m\u001b[0mdimensional\u001b[0m \u001b[0mspace\u001b[0m\u001b[1;33m.\u001b[0m\u001b[1;33m\u001b[0m\u001b[0m\n\u001b[0;32m    865\u001b[0m         \"\"\"\n\u001b[1;32m--> 866\u001b[1;33m         \u001b[0membedding\u001b[0m \u001b[1;33m=\u001b[0m \u001b[0mself\u001b[0m\u001b[1;33m.\u001b[0m\u001b[0m_fit\u001b[0m\u001b[1;33m(\u001b[0m\u001b[0mX\u001b[0m\u001b[1;33m)\u001b[0m\u001b[1;33m\u001b[0m\u001b[0m\n\u001b[0m\u001b[0;32m    867\u001b[0m         \u001b[0mself\u001b[0m\u001b[1;33m.\u001b[0m\u001b[0membedding_\u001b[0m \u001b[1;33m=\u001b[0m \u001b[0membedding\u001b[0m\u001b[1;33m\u001b[0m\u001b[0m\n\u001b[0;32m    868\u001b[0m         \u001b[1;32mreturn\u001b[0m \u001b[0mself\u001b[0m\u001b[1;33m.\u001b[0m\u001b[0membedding_\u001b[0m\u001b[1;33m\u001b[0m\u001b[0m\n",
      "\u001b[1;32m/home/mil/fukuta/.pyenv/versions/anaconda3-4.0.0/lib/python3.5/site-packages/sklearn/manifold/t_sne.py\u001b[0m in \u001b[0;36m_fit\u001b[1;34m(self, X, skip_num_points)\u001b[0m\n\u001b[0;32m    749\u001b[0m                 \u001b[1;31m# In the event that we have very small # of points\u001b[0m\u001b[1;33m\u001b[0m\u001b[1;33m\u001b[0m\u001b[0m\n\u001b[0;32m    750\u001b[0m                 \u001b[1;31m# set the neighbors to n - 1\u001b[0m\u001b[1;33m\u001b[0m\u001b[1;33m\u001b[0m\u001b[0m\n\u001b[1;32m--> 751\u001b[1;33m                 \u001b[0mdistances_nn\u001b[0m\u001b[1;33m,\u001b[0m \u001b[0mneighbors_nn\u001b[0m \u001b[1;33m=\u001b[0m \u001b[0mbt\u001b[0m\u001b[1;33m.\u001b[0m\u001b[0mquery\u001b[0m\u001b[1;33m(\u001b[0m\u001b[0mX\u001b[0m\u001b[1;33m,\u001b[0m \u001b[0mk\u001b[0m\u001b[1;33m=\u001b[0m\u001b[0mk\u001b[0m \u001b[1;33m+\u001b[0m \u001b[1;36m1\u001b[0m\u001b[1;33m)\u001b[0m\u001b[1;33m\u001b[0m\u001b[0m\n\u001b[0m\u001b[0;32m    752\u001b[0m                 \u001b[0mneighbors_nn\u001b[0m \u001b[1;33m=\u001b[0m \u001b[0mneighbors_nn\u001b[0m\u001b[1;33m[\u001b[0m\u001b[1;33m:\u001b[0m\u001b[1;33m,\u001b[0m \u001b[1;36m1\u001b[0m\u001b[1;33m:\u001b[0m\u001b[1;33m]\u001b[0m\u001b[1;33m\u001b[0m\u001b[0m\n\u001b[0;32m    753\u001b[0m             P = _joint_probabilities_nn(distances, neighbors_nn,\n",
      "\u001b[1;31mKeyboardInterrupt\u001b[0m: "
     ]
    }
   ],
   "source": [
    "model = TSNE(n_components=2)\n",
    "tsne_result = model.fit_transform(cuda.to_cpu(mu_z.data))\n",
    "plt.plot(tsne_result[:,0], tsne_result[:,1], \".\")"
   ]
  },
  {
   "cell_type": "markdown",
   "metadata": {},
   "source": [
    "## Reconstruction"
   ]
  },
  {
   "cell_type": "code",
   "execution_count": 10,
   "metadata": {
    "collapsed": false,
    "scrolled": false
   },
   "outputs": [
    {
     "name": "stdout",
     "output_type": "stream",
     "text": [
      "0 イケボ<EOS>　　　　　　　　　　　　　　　　　　　　　　 イケボ<EOS>                                                    \n",
      "1 ほとんどモロ出しディックすき<EOS>　　　　　　　　　　　 ほしょどん安出とディックすき<EOS>                              \n",
      "2 エジプト新王国(B.C.14世紀)<EOS>　　　　　　　　 エジプト新王国(B.9.14世紀)<EOS>                        \n",
      "3 カカカタ☆カタオモイ<EOS>　　　　　　　　　　　　　　　 カカカタ☆カタオツイ<EOS>                                      \n",
      "4 いやいやwww<EOS>　　　　　　　　　　　　　　　　　　 いやいやwww<EOS>                                            \n",
      "5 おしいい<EOS>　　　　　　　　　　　　　　　　　　　　　 おしいい<EOS>                                                  \n",
      "6 (114514?)<EOS>　　　　　　　　　　　　　　　　 (1145144)<EOS>                                        \n",
      "7 らん<EOS>　　　　　　　　　　　　　　　　　　　　　　　 らん<EOS>                                                      \n",
      "8 🍅🍅🍅🍅🍅🍅🍅<EOS>　　　　　　　　　　　　　　　　　　 🍅🍅🍅🍅🍅🍅🍅<EOS>                                            \n",
      "9 すねおって優しい人なんだ。ほほう。<EOS>　　　　　　　　 すねおして優しい人なんだ。ほほう。<EOS>                        \n",
      "10 羽生くん美しいなぁ<EOS>　　　　　　　　　　　　　　　　 羽生くん美しいなぁ<EOS>                                        \n",
      "11 いくで<EOS>　　　　　　　　　　　　　　　　　　　　　　 いくで<EOS>                                                    \n",
      "12 ビンホア村 ビンホア村 ビンホア村<EOS>　　　　　　　　 ビンホア村 ビンホウィ ビンホア村<EOS>                        \n",
      "13 目に蓋をされて耳元で自虐史を囁かれ続けてる<EOS>　　　　 目に蓋をされて耳元で自己を履かけ続けてる※<EOS>                \n",
      "14 xyz<EOS>　　　　　　　　　　　　　　　　　　　　　　 xyz<EOS>                                                    \n",
      "15 落ちるボール<EOS>　　　　　　　　　　　　　　　　　　　 落ちるボール<EOS>                                              \n",
      "16 ソ連製ほど信用ならんものはないだろ<EOS>　　　　　　　　 ソ連製作嫌も用ならんのもはないだろ<EOS>                        \n",
      "17 超 高 校 級 の    色 肌<EOS>　　　　　　　　　 超 高 我 級 の    色 肌<EOS>                            \n",
      "18 ゴムさあああああんんん<EOS>　　　　　　　　　　　　　　 ゴムさあああああんんん<EOS>                                    \n",
      "19 くさい(確信)<EOS>　　　　　　　　　　　　　　　　　　 くさい(確信)<EOS>                                            \n",
      "20 岡田イケメンすぎんよ<EOS>　　　　　　　　　　　　　　　 岡田イケメンすぎんよ<EOS>                                      \n",
      "21 射撃が上手すぎる<EOS>　　　　　　　　　　　　　　　　　 射撃が上手すぎる<EOS>                                          \n",
      "22 さて・・・<EOS>　　　　　　　　　　　　　　　　　　　　 さて・・・<EOS>                                                \n",
      "23 6<EOS>　　　　　　　　　　　　　　　　　　　　　　　　 6<EOS>                                                        \n",
      "24 やるやん<EOS>　　　　　　　　　　　　　　　　　　　　　 やるやん<EOS>                                                  \n",
      "25 7って変わってるなほんと<EOS>　　　　　　　　　　　　　 7って変わってるなほんと<EOS>                                  \n",
      "26 天狗みたい<EOS>　　　　　　　　　　　　　　　　　　　　 天狗みたい<EOS>                                                \n",
      "27 へぇ<EOS>　　　　　　　　　　　　　　　　　　　　　　　 へぇ<EOS>                                                      \n",
      "28 それ<EOS>　　　　　　　　　　　　　　　　　　　　　　　 それ<EOS>                                                      \n",
      "29 人<EOS>　　　　　　　　　　　　　　　　　　　　　　　　 人<EOS>                                                        \n"
     ]
    }
   ],
   "source": [
    "generator.reset_state()\n",
    "batch_size = 30\n",
    "T =1\n",
    "sampling=False\n",
    "positive = train_comment_data[np.random.permutation(train_num)[:batch_size]]\n",
    "# sentences = to_sentence(positive)\n",
    "_, mu_z, ln_var_z = encoder.encode(positive, train=False)\n",
    "\n",
    "z = F.gaussian(mu_z, ln_var_z)\n",
    "generator.lstm1.h = z\n",
    "x = chainer.Variable(generator.xp.asanyarray([generator.start_token] * batch_size, 'int32'), volatile=True)\n",
    "\n",
    "const_random = np.zeros((batch_size, generator.sequence_length), 'int32')\n",
    "for i in range(generator.sequence_length):\n",
    "    scores = generator.decode_one_step(x, train=False)\n",
    "    pred = softmax(cuda.to_cpu(scores.data), T)\n",
    "    if sampling:\n",
    "        generated = [np.random.choice(generator.vocab_size, p=pred[j]) for j in range(batch_size)]\n",
    "    else:\n",
    "        generated = [np.argmax(pred[j]) for j in range(batch_size)]\n",
    "\n",
    "    const_random[:, i] = generated\n",
    "    x = chainer.Variable(generator.xp.asanyarray(generated, 'int32'), volatile=True)\n",
    "\n",
    "a = to_sentence(positive)\n",
    "b = to_sentence(const_random)\n",
    "\n",
    "for i, (aa, bb) in enumerate(zip(a,b)):\n",
    "    print(i, aa.rstrip().ljust(30,'　'),bb)"
   ]
  },
  {
   "cell_type": "markdown",
   "metadata": {},
   "source": [
    "## Encodeされたzの周り"
   ]
  },
  {
   "cell_type": "code",
   "execution_count": 30,
   "metadata": {
    "collapsed": false
   },
   "outputs": [
    {
     "name": "stdout",
     "output_type": "stream",
     "text": [
      "エンリピしまああああす<EOS>                                    \n",
      "0 エンリピしすああああん<EOS>                                    \n",
      "1 エーリピしまあああ、し<EOS>                                    \n",
      "2 エンロピしあうあます<EOS>                                      \n",
      "3 エンリバしまあれw<EOS>                                        \n",
      "4 エーリピしまりますああああんし<EOS>                            \n",
      "5 エンリバしまあほえ<EOS>                                        \n",
      "6 エンリピクあまああ<EOS>                                        \n",
      "7 エンロピしますああた<EOS>                                      \n",
      "8 エン路固タめあまあ行って<EOS>                                  \n",
      "9 エンリピしまああああ<EOS>                                      \n",
      "10 キンゥピしまあああいます<EOS>                                  \n",
      "11 エンリ固しまああああ<EOS>                                      \n",
      "12 エンリピしましあすあああす<EOS>                                \n",
      "13 エンリピしああああ<EOS>                                        \n",
      "14 エンロあしあ<EOS>                                              \n",
      "15 エンリピしかあうあ<EOS>                                        \n",
      "16 エンリピしの固定ああまあすし<EOS>                              \n",
      "17 エンロテタッまあああああああああ<EOS>                          \n",
      "18 エンリピだまああああん<EOS>                                    \n",
      "19 エンリピタバぁぁまああああああああ、い<EOS>                    \n",
      "20 エンリピしござあ・あああだ!<EOS>                              \n",
      "21 エスリピしすあああああああだ<EOS>                              \n",
      "22 エンリピしまあうす<EOS>                                        \n",
      "23 レンブプしまあああああああ<EOS>                                \n",
      "24 エンリピしまああ<EOS>                                          \n",
      "25 エンリピし固まああああw<EOS>                                  \n",
      "26 エームピしあまいし<EOS>                                        \n",
      "27 キンロシラしあ別あだが<EOS>                                    \n",
      "28 エンリピしまあのああああああすけどだ<EOS>                      \n",
      "29 エンリピしゃあまあああす<EOS>                                  \n"
     ]
    }
   ],
   "source": [
    "generator.reset_state()\n",
    "batch_size = 30\n",
    "T =1\n",
    "sampling=True\n",
    "positive = train_comment_data[np.random.permutation(train_num)[:1]]\n",
    "a = to_sentence(positive)\n",
    "print(a[0])\n",
    "\n",
    "# sentences = to_sentence(positive)\n",
    "_, mu_z, ln_var_z = encoder.encode(positive, train=False)\n",
    "\n",
    "rand = np.zeros((batch_size, generator.emb_dim))\n",
    "for i in range(batch_size):\n",
    "    rand[i] = np.random.normal(loc=cuda.to_cpu(mu_z.data), scale=0.5, size=generator.emb_dim)\n",
    "\n",
    "generator.reset_state()\n",
    "generator.lstm1.h = chainer.Variable(generator.xp.asanyarray(rand, 'float32'), volatile=True)\n",
    "x = chainer.Variable(generator.xp.asanyarray([generator.start_token] * batch_size, 'int32'), volatile=True)\n",
    "\n",
    "print_sentence(generate(batch_size, x, sampling=True))"
   ]
  },
  {
   "cell_type": "markdown",
   "metadata": {},
   "source": [
    "## 内分点"
   ]
  },
  {
   "cell_type": "code",
   "execution_count": 56,
   "metadata": {
    "collapsed": false,
    "scrolled": true
   },
   "outputs": [
    {
     "name": "stdout",
     "output_type": "stream",
     "text": [
      "不正はなかった<EOS>                                            \n",
      "\n",
      "0 不正はなかった<EOS>                        \n",
      "1 不正はなかった<EOS>                        \n",
      "2 不正はなかった<EOS>                        \n",
      "3 不正はなかった<EOS>                        \n",
      "4 不正はなかった<EOS>                        \n",
      "5 不正がえないっかたあ<EOS>                  \n",
      "6 なあかヤばなどかったw<EOS>                \n",
      "7 なんがヤばれるからの草<EOS>                \n",
      "8 なんかヤスれうなのがたw<EOS>              \n",
      "9 なんがヤバそうなのか来たw<EOS>            \n",
      "10 なんかヤバそうなのが来たw<EOS>            \n",
      "\n",
      "なんかヤバそうなのが来たw<EOS>                                \n"
     ]
    }
   ],
   "source": [
    "generator.reset_state()\n",
    "batch_size = 11\n",
    "T =1\n",
    "sampling=False\n",
    "positive = train_comment_data[np.random.permutation(train_num)[:2]]\n",
    "# sentences = to_sentence(positive)\n",
    "_, mu_z, ln_var_z = encoder.encode(positive, train=False)\n",
    "\n",
    "z1 = cuda.to_cpu(mu_z.data[0])\n",
    "z2 = cuda.to_cpu(mu_z.data[1])\n",
    "\n",
    "z = np.zeros((11, generator.emb_dim))\n",
    "for t in range(0,11):\n",
    "    t_ = t*0.1\n",
    "    z[t] = (1-t_)*z1 + t_*z2\n",
    "    \n",
    "generator.lstm1.h = chainer.Variable(generator.xp.asanyarray(z, 'float32'), volatile=True)\n",
    "x = chainer.Variable(generator.xp.asanyarray([generator.start_token] * batch_size, 'int32'), volatile=True)\n",
    "\n",
    "a = to_sentence(positive)    \n",
    "b = to_sentence(generate(batch_size, x, sampling=True))\n",
    "print(a[0], end='\\n\\n')\n",
    "for i, bb in enumerate(b):\n",
    "    print(i, bb)\n",
    "print('\\n'+a[1])"
   ]
  },
  {
   "cell_type": "markdown",
   "metadata": {},
   "source": [
    "## すべてのコメントをencode"
   ]
  },
  {
   "cell_type": "code",
   "execution_count": 7,
   "metadata": {
    "collapsed": false
   },
   "outputs": [],
   "source": [
    "perm = np.random.permutation(len(train_comment_data))\n",
    "positive = train_comment_data[perm[:100000]]\n",
    "\n",
    "comment_space = np.vstack([cuda.to_cpu(encoder.encode(positive[i:i+1000], train=False)[1].data) for i in range(0, len(positive), 1000)])\n",
    "\n",
    "test_x = np.zeros((100000, 256))\n",
    "for i in range(len(comment_space)):\n",
    "    test_x[i] = comment_space[i] / np.linalg.norm(comment_space[i])"
   ]
  },
  {
   "cell_type": "code",
   "execution_count": 9,
   "metadata": {
    "collapsed": false
   },
   "outputs": [
    {
     "data": {
      "text/plain": [
       "[<matplotlib.lines.Line2D at 0x7f86398d2c18>]"
      ]
     },
     "execution_count": 9,
     "metadata": {},
     "output_type": "execute_result"
    },
    {
     "data": {
      "image/png": "[encoded data removed]",
      "text/plain": [
       "<matplotlib.figure.Figure at 0x7f8667ca9080>"
      ]
     },
     "metadata": {},
     "output_type": "display_data"
    }
   ],
   "source": [
    "from sklearn.manifold import TSNE\n",
    "model = TSNE(n_components=2)\n",
    "tsne_result = model.fit_transform(comment_space[:10000])\n",
    "plt.plot(tsne_result[:,0], tsne_result[:,1], \".\")"
   ]
  },
  {
   "cell_type": "markdown",
   "metadata": {},
   "source": [
    "## あるコメントからz空間上でcos類似度がちかいもの　"
   ]
  },
  {
   "cell_type": "code",
   "execution_count": 24,
   "metadata": {
    "collapsed": false
   },
   "outputs": [
    {
     "name": "stdout",
     "output_type": "stream",
     "text": [
      "鼻声?<EOS>                                                    \n",
      "\n",
      "0 鼻声?<EOS>                                                    \n",
      "1 鼻声<EOS>                                                      \n",
      "2 鼻声<EOS>                                                      \n",
      "3 鼻声だね<EOS>                                                  \n",
      "4 鼻ww<EOS>                                                    \n",
      "5 鼻水?<EOS>                                                    \n",
      "6 鼻が<EOS>                                                      \n",
      "7 鼻か<EOS>                                                      \n",
      "8 鼻歌w<EOS>                                                    \n",
      "9 鼻汁<EOS>                                                      \n",
      "10 鼻でか<EOS>                                                    \n",
      "11 奇声<EOS>                                                      \n",
      "12 鼻低くなった?<EOS>                                            \n",
      "13 ドブ...<EOS>                                                \n",
      "14 ほー?<EOS>                                                    \n",
      "15 奇声wwww<EOS>                                              \n",
      "16 デブ<EOS>                                                      \n",
      "17 デブ<EOS>                                                      \n",
      "18 鼻おかしい<EOS>                                                \n",
      "19 整形?<EOS>                                                    \n"
     ]
    }
   ],
   "source": [
    "n = np.random.randint(100000)\n",
    "print(to_sentence([positive[n]])[0] + '\\n')\n",
    "T = 1\n",
    "sampling = True\n",
    "z = test_x[n]\n",
    "indices = np.argsort(-np.dot(z, test_x.T))[:20]\n",
    "\n",
    "batch_size = 20\n",
    "generator.reset_state()\n",
    "generator.lstm1.h = chainer.Variable(generator.xp.asanyarray(comment_space[indices], 'float32'), volatile=True)\n",
    "x = chainer.Variable(generator.xp.asanyarray([generator.start_token] * batch_size, 'int32'), volatile=True)\n",
    "\n",
    "const_random = np.zeros((batch_size, generator.sequence_length), 'int32')\n",
    "for i in range(generator.sequence_length):\n",
    "    scores = generator.decode_one_step(x, train=False)\n",
    "    pred = softmax(cuda.to_cpu(scores.data), T)\n",
    "    if sampling:\n",
    "        generated = [np.random.choice(generator.vocab_size, p=pred[j]) for j in range(batch_size)]\n",
    "    else:\n",
    "        generated = [np.argmax(pred[j]) for j in range(batch_size)]\n",
    "\n",
    "    const_random[:, i] = generated\n",
    "    x = chainer.Variable(generator.xp.asanyarray(generated, 'int32'), volatile=True)\n",
    "\n",
    "    \n",
    "print_sentence(const_random)\n"
   ]
  },
  {
   "cell_type": "markdown",
   "metadata": {},
   "source": [
    "## random noizeから近いコメント"
   ]
  },
  {
   "cell_type": "code",
   "execution_count": 58,
   "metadata": {
    "collapsed": false
   },
   "outputs": [
    {
     "name": "stdout",
     "output_type": "stream",
     "text": [
      "0 ヴァーカタレがっ!<EOS>                                        \n",
      "1 じわーり<EOS>                                                  \n",
      "2 おー!おめでとです<EOS>                                        \n",
      "3 杯が終わってから誰やる動けどって事も居るね<EOS>                \n",
      "4 コナン映画最高傑作だよなあ?<EOS>                              \n",
      "5 ちゃんと顔モザ入れてて好き感じるね!<EOS>                      \n",
      "6 ごはんやだな<EOS>                                              \n",
      "7 動作できんかったかw<EOS>                                      \n",
      "8 SA-YO-NA-RA w<EOS>                                \n",
      "9 皆機嫌悪そうに見えるwww<EOS>                                \n",
      "10 じわる<EOS>                                                    \n",
      "11 じわる<EOS>                                                    \n",
      "12 ぴったり<EOS>                                                  \n",
      "13 ふぁんたじー<EOS>                                              \n",
      "14 ふぇんりる<EOS>                                                \n",
      "15 左は走行車線で別が追い越しま線でからこれいいんだよなあ<EOS>    \n",
      "16 あのスケジュールじゃき機好きさせるともこないんですかな?<EOS>  \n",
      "17 やかんあれ火の中にでも放送り込んだ??<EOS>                    \n",
      "18 スジ彫りちょっと多い感じもするなー<EOS>                        \n",
      "19 e-sports<EOS>                                          \n"
     ]
    }
   ],
   "source": [
    "z = np.random.normal(scale=1, size=256)\n",
    "z /= np.linalg.norm(z)\n",
    "indices = np.argsort(-np.dot(z, test_x.T))[:20]\n",
    "\n",
    "batch_size = 20\n",
    "generator.reset_state()\n",
    "generator.lstm1.h = chainer.Variable(generator.xp.asanyarray(comment_space[indices], 'float32'), volatile=True)\n",
    "x = chainer.Variable(generator.xp.asanyarray([generator.start_token] * batch_size, 'int32'), volatile=True)\n",
    "\n",
    "const_random = np.zeros((batch_size, generator.sequence_length), 'int32')\n",
    "for i in range(generator.sequence_length):\n",
    "    scores = generator.decode_one_step(x, train=False)\n",
    "    pred = softmax(cuda.to_cpu(scores.data), T)\n",
    "    if sampling:\n",
    "        generated = [np.random.choice(generator.vocab_size, p=pred[j]) for j in range(batch_size)]\n",
    "    else:\n",
    "        generated = [np.argmax(pred[j]) for j in range(batch_size)]\n",
    "\n",
    "    const_random[:, i] = generated\n",
    "    x = chainer.Variable(generator.xp.asanyarray(generated, 'int32'), volatile=True)\n",
    "print_sentence(const_random)"
   ]
  },
  {
   "cell_type": "markdown",
   "metadata": {},
   "source": [
    "## tag 利用"
   ]
  },
  {
   "cell_type": "code",
   "execution_count": 6,
   "metadata": {
    "collapsed": false
   },
   "outputs": [
    {
     "ename": "AttributeError",
     "evalue": "'SeqGAN' object has no attribute 'tag_embed'",
     "output_type": "error",
     "traceback": [
      "\u001b[1;31m---------------------------------------------------------------------------\u001b[0m",
      "\u001b[1;31mAttributeError\u001b[0m                            Traceback (most recent call last)",
      "\u001b[1;32m<ipython-input-6-6ef3e7f3bd2f>\u001b[0m in \u001b[0;36m<module>\u001b[1;34m()\u001b[0m\n\u001b[0;32m      1\u001b[0m \u001b[0mtag_batch\u001b[0m \u001b[1;33m=\u001b[0m \u001b[0mnp\u001b[0m\u001b[1;33m.\u001b[0m\u001b[0mrepeat\u001b[0m\u001b[1;33m(\u001b[0m\u001b[0mrange\u001b[0m\u001b[1;33m(\u001b[0m\u001b[0mlen\u001b[0m\u001b[1;33m(\u001b[0m\u001b[0mtag_id\u001b[0m\u001b[1;33m)\u001b[0m\u001b[1;33m)\u001b[0m\u001b[1;33m,\u001b[0m \u001b[1;36m5\u001b[0m\u001b[1;33m)\u001b[0m\u001b[1;33m\u001b[0m\u001b[0m\n\u001b[1;32m----> 2\u001b[1;33m \u001b[0mnegative\u001b[0m \u001b[1;33m=\u001b[0m \u001b[0mgenerator\u001b[0m\u001b[1;33m.\u001b[0m\u001b[0mgenerate_use_tag\u001b[0m\u001b[1;33m(\u001b[0m\u001b[0mtag_batch\u001b[0m\u001b[1;33m,\u001b[0m \u001b[0mtrain\u001b[0m\u001b[1;33m=\u001b[0m\u001b[1;32mTrue\u001b[0m\u001b[1;33m)\u001b[0m\u001b[1;33m\u001b[0m\u001b[0m\n\u001b[0m",
      "\u001b[1;32m/home/keisuke_fukuta/chainer-SeqGAN/models/seqgan.py\u001b[0m in \u001b[0;36mgenerate_use_tag\u001b[1;34m(self, tag, x, pool, train)\u001b[0m\n\u001b[0;32m    149\u001b[0m         \u001b[0mbatch_size\u001b[0m \u001b[1;33m=\u001b[0m \u001b[0mlen\u001b[0m\u001b[1;33m(\u001b[0m\u001b[0mtag\u001b[0m\u001b[1;33m)\u001b[0m\u001b[1;33m\u001b[0m\u001b[0m\n\u001b[0;32m    150\u001b[0m         \u001b[1;32mif\u001b[0m \u001b[0mtrain\u001b[0m\u001b[1;33m:\u001b[0m\u001b[1;33m\u001b[0m\u001b[0m\n\u001b[1;32m--> 151\u001b[1;33m             \u001b[0mself\u001b[0m\u001b[1;33m.\u001b[0m\u001b[0mlstm1\u001b[0m\u001b[1;33m.\u001b[0m\u001b[0mh\u001b[0m \u001b[1;33m=\u001b[0m \u001b[0mself\u001b[0m\u001b[1;33m.\u001b[0m\u001b[0mtag_embed\u001b[0m\u001b[1;33m(\u001b[0m\u001b[0mchainer\u001b[0m\u001b[1;33m.\u001b[0m\u001b[0mVariable\u001b[0m\u001b[1;33m(\u001b[0m\u001b[0mself\u001b[0m\u001b[1;33m.\u001b[0m\u001b[0mxp\u001b[0m\u001b[1;33m.\u001b[0m\u001b[0marray\u001b[0m\u001b[1;33m(\u001b[0m\u001b[0mtag\u001b[0m\u001b[1;33m,\u001b[0m \u001b[1;34m'int32'\u001b[0m\u001b[1;33m)\u001b[0m\u001b[1;33m)\u001b[0m\u001b[1;33m)\u001b[0m\u001b[1;33m\u001b[0m\u001b[0m\n\u001b[0m\u001b[0;32m    152\u001b[0m \u001b[1;33m\u001b[0m\u001b[0m\n\u001b[0;32m    153\u001b[0m         \u001b[1;32melse\u001b[0m\u001b[1;33m:\u001b[0m\u001b[1;33m\u001b[0m\u001b[0m\n",
      "\u001b[1;31mAttributeError\u001b[0m: 'SeqGAN' object has no attribute 'tag_embed'"
     ]
    }
   ],
   "source": [
    "tag_batch = np.repeat(range(len(tag_id)), 5)\n",
    "negative = generator.generate_use_tag(tag_batch, train=True)"
   ]
  },
  {
   "cell_type": "code",
   "execution_count": 10,
   "metadata": {
    "collapsed": false,
    "scrolled": false
   },
   "outputs": [
    {
     "ename": "NameError",
     "evalue": "name 'negative' is not defined",
     "output_type": "error",
     "traceback": [
      "\u001b[1;31m---------------------------------------------------------------------------\u001b[0m",
      "\u001b[1;31mNameError\u001b[0m                                 Traceback (most recent call last)",
      "\u001b[1;32m<ipython-input-10-a31e99e3c61a>\u001b[0m in \u001b[0;36m<module>\u001b[1;34m()\u001b[0m\n\u001b[1;32m----> 1\u001b[1;33m \u001b[1;32mfor\u001b[0m \u001b[0ma\u001b[0m\u001b[1;33m,\u001b[0m\u001b[0mb\u001b[0m \u001b[1;32min\u001b[0m \u001b[0mzip\u001b[0m\u001b[1;33m(\u001b[0m\u001b[0mtag_batch\u001b[0m\u001b[1;33m,\u001b[0m \u001b[0mto_sentence\u001b[0m\u001b[1;33m(\u001b[0m\u001b[0mnegative\u001b[0m\u001b[1;33m)\u001b[0m\u001b[1;33m)\u001b[0m\u001b[1;33m:\u001b[0m\u001b[1;33m\u001b[0m\u001b[0m\n\u001b[0m\u001b[0;32m      2\u001b[0m     \u001b[0mprint\u001b[0m\u001b[1;33m(\u001b[0m\u001b[0mtag_id\u001b[0m\u001b[1;33m[\u001b[0m\u001b[0ma\u001b[0m\u001b[1;33m]\u001b[0m\u001b[1;33m,\u001b[0m \u001b[1;34m'         '\u001b[0m\u001b[1;33m,\u001b[0m \u001b[0mb\u001b[0m\u001b[1;33m)\u001b[0m\u001b[1;33m\u001b[0m\u001b[0m\n",
      "\u001b[1;31mNameError\u001b[0m: name 'negative' is not defined"
     ]
    }
   ],
   "source": [
    "for a,b in zip(tag_batch, to_sentence(negative)):\n",
    "    print(tag_id[a], '         ', b)"
   ]
  },
  {
   "cell_type": "code",
   "execution_count": null,
   "metadata": {
    "collapsed": true
   },
   "outputs": [],
   "source": [
    "generator.reset_state()\n",
    "\n",
    "batch_size = 60\n",
    "T = 1\n",
    "sampling=True\n",
    "train = False\n",
    "\n",
    "positive = train_comment_data[np.random.permutation(train_num)[:60]]\n",
    "\n",
    "tag_batch = np.repeat(range(len(tag_id)), 10)\n",
    "tag_ = generator.tag_embed(chainer.Variable(generator.xp.array(tag_batch, 'int32'), volatile=True))\n",
    "\n",
    "_, mu_z, ln_var_z = encoder.encode_with_tag(positive, tag_batch, train)\n",
    "z = F.gaussian(mu_z, ln_var_z)\n",
    "\n",
    "generator.lstm1.h = generator.dec_input(F.concat((z, tag_)))\n",
    "\n",
    "x = chainer.Variable(generator.xp.asanyarray([generator.start_token] * batch_size, 'int32'), volatile=True)\n",
    "\n",
    "const_random = np.zeros((batch_size, generator.sequence_length), 'int32')\n",
    "for i in range(generator.sequence_length):\n",
    "    scores = generator.decode_one_step(x, train=False)\n",
    "    pred = softmax(cuda.to_cpu(scores.data), T)\n",
    "    if sampling:\n",
    "        generated = [np.random.choice(generator.vocab_size, p=pred[j]) for j in range(batch_size)]\n",
    "    else:\n",
    "        generated = [np.argmax(pred[j]) for j in range(batch_size)]\n",
    "\n",
    "    const_random[:, i] = generated\n",
    "    x = chainer.Variable(generator.xp.asanyarray(generated, 'int32'), volatile=True)\n",
    "\n",
    "a = to_sentence(positive)\n",
    "b = to_sentence(const_random)\n",
    "\n",
    "for i, aa, bb in zip(tag_batch, a,b):\n",
    "    print(tag_id[i], aa,bb)"
   ]
  }
 ],
 "metadata": {
  "anaconda-cloud": {},
  "kernelspec": {
   "display_name": "Python [Root]",
   "language": "python",
   "name": "Python [Root]"
  },
  "language_info": {
   "codemirror_mode": {
    "name": "ipython",
    "version": 3
   },
   "file_extension": ".py",
   "mimetype": "text/x-python",
   "name": "python",
   "nbconvert_exporter": "python",
   "pygments_lexer": "ipython3",
   "version": "3.5.1"
  }
 },
 "nbformat": 4,
 "nbformat_minor": 0
}
